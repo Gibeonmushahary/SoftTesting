{
 "cells": [
  {
   "cell_type": "code",
   "execution_count": 13,
   "id": "ea9e4946-b7c5-4fdf-8a7a-68258b240b6b",
   "metadata": {},
   "outputs": [
    {
     "name": "stdin",
     "output_type": "stream",
     "text": [
      "Enter the Python file path to check (e.g., sample.py):  7.py\n"
     ]
    },
    {
     "name": "stdout",
     "output_type": "stream",
     "text": [
      "Checking '7.py' for SQA compliance...\n",
      "\n",
      "❌ Issues found:\n",
      "- Function 'get_score' is missing a docstring.\n",
      "- Function 'evaluate_category' is missing a docstring.\n",
      "- Function 'mccall_quality_evaluation' is missing a docstring.\n"
     ]
    }
   ],
   "source": [
    "# --------------------------------------------\n",
    "# Software Quality Assurance Checklist Tool\n",
    "# --------------------------------------------\n",
    "\n",
    "import ast\n",
    "import re\n",
    "\n",
    "# Step 1: Check function documentation and naming convention\n",
    "def check_functions(source_code):\n",
    "    issues = []\n",
    "    tree = ast.parse(source_code)\n",
    "\n",
    "    for node in ast.walk(tree):\n",
    "        if isinstance(node, ast.FunctionDef):\n",
    "            func_name = node.name\n",
    "\n",
    "            # Check for docstring\n",
    "            322s\n",
    "            docstring = ast.get_docstring(node)\n",
    "            if not docstring:\n",
    "                issues.append(f\"Function '{func_name}' is missing a docstring.\")\n",
    "\n",
    "            # Check for snake_case naming\n",
    "            if not re.match(r'^[a-z_][a-z0-9_]*$', func_name):\n",
    "                issues.append(f\"Function name '{func_name}' does not follow snake_case convention.\")\n",
    "\n",
    "    return issues\n",
    "\n",
    "# Step 2: Check indentation levels (should be 4 spaces)\n",
    "def check_indentation(lines):\n",
    "    issues = []\n",
    "    for i, line in enumerate(lines, start=1):\n",
    "        if line.strip() == \"\":\n",
    "            continue  # skip empty lines\n",
    "\n",
    "        leading_spaces = len(line) - len(line.lstrip(' '))\n",
    "        if leading_spaces % 4 != 0 and line.startswith(' '):\n",
    "            issues.append(f\"Line {i}: Indentation is not a multiple of 4 spaces.\")\n",
    "    return issues\n",
    "\n",
    "# Step 3: Run the SQA checklist\n",
    "def run_sqa_checklist(file_path):\n",
    "    try:\n",
    "        with open(file_path, 'r') as f:\n",
    "            code = f.read()\n",
    "            lines = code.split('\\n')\n",
    "\n",
    "            print(f\"Checking '{file_path}' for SQA compliance...\\n\")\n",
    "            func_issues = check_functions(code)\n",
    "            indent_issues = check_indentation(lines)\n",
    "\n",
    "            all_issues = func_issues + indent_issues\n",
    "\n",
    "            if not all_issues:\n",
    "                print(\"✅ Code passed all SQA checks!\")\n",
    "            else:\n",
    "                print(\"❌ Issues found:\")\n",
    "                for issue in all_issues:\n",
    "                    print(\"-\", issue)\n",
    "\n",
    "    except FileNotFoundError:\n",
    "        print(\"Error: File not found.\")\n",
    "    except Exception as e:\n",
    "        print(f\"Error during analysis: {e}\")\n",
    "\n",
    "# Step 4: Main execution\n",
    "if __name__ == \"__main__\":\n",
    "    filename = input(\"Enter the Python file path to check (e.g., sample.py): \").strip()\n",
    "    run_sqa_checklist(filename)\n"
   ]
  },
  {
   "cell_type": "code",
   "execution_count": null,
   "id": "a4af05e6-4f26-4410-b0fa-fb44217fa64e",
   "metadata": {},
   "outputs": [],
   "source": []
  },
  {
   "cell_type": "code",
   "execution_count": null,
   "id": "d4aa5cf2-eded-4002-b45e-bdaa6883f474",
   "metadata": {},
   "outputs": [],
   "source": []
  }
 ],
 "metadata": {
  "kernelspec": {
   "display_name": "Python 3 (ipykernel)",
   "language": "python",
   "name": "python3"
  },
  "language_info": {
   "codemirror_mode": {
    "name": "ipython",
    "version": 3
   },
   "file_extension": ".py",
   "mimetype": "text/x-python",
   "name": "python",
   "nbconvert_exporter": "python",
   "pygments_lexer": "ipython3",
   "version": "3.12.7"
  }
 },
 "nbformat": 4,
 "nbformat_minor": 5
}
